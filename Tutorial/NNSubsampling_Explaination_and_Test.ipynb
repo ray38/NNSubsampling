{
 "cells": [
  {
   "cell_type": "markdown",
   "metadata": {},
   "source": [
    "# NN-Subsampling Algorithm\n",
    "\n",
    "The sampling algorithm is an iterative process based on Nearest Neighbour search. \n",
    "\n",
    "In each iteration, the dataset is normalized with the standard scaler (mean = 0, standard deviation = 1) and a nearest-neighbour model is constructed and queried to find the nearest neighbor for each data point as well as the distance between them. If the distance is below a certain cutoff distance, the neighbor is removed with some probability. The process is iterated until there are no more points to be removed. \n",
    "\n",
    "The algorithm has two hyper-parameters: cutoff distance and deletion probability (rate). \n",
    "\n",
    "The cutoff distance controls the sparsity of the resulting representative dataset. Higher cutoff distances resulting in fewer sub-sampled points.\n",
    "The deletion probability controls robustness. Lower deletion probablibity is more robust but resulting in slower execution. High deletion probablity might result in a \"hole\" in the subsampled dataset\n",
    "\n",
    "High-dimensional datasets may also be pre-processed by principal component analysis (PCA) to reduce the dimensionality prior to subsampling\n",
    "\n",
    "\n",
    "The illustration of the subsampling procedure is shown in the Figure below\n",
    "\n",
    "<center>\n",
    "    <img src=\"./subsample_schema.JPG\" width = 500>\n",
    "</center>"
   ]
  },
  {
   "cell_type": "markdown",
   "metadata": {},
   "source": [
    "The Nearest-Neighbour search uses one of the packages below:\n",
    "\n",
    "* FLANN: http://www.cs.ubc.ca/research/flann/\n",
    "\n",
    "* pykdtree: https://github.com/storpipfugl/pykdtree\n",
    "\n",
    "* Annoy: https://github.com/spotify/annoy\n",
    "\n",
    "* nmslib: https://github.com/nmslib/nmslib/tree/master/python_bindings\n",
    "\n",
    "* scipy cKDTree\n",
    "\n",
    "* scikit-learn nearest neighbor\n",
    "\n",
    "Please make sure you have at least one of these packages installed before trying the algorithm (also remember to specify the method in your script)\n",
    "\n",
    "Also note that different packages may (sometimes very significantly) in speed, efficiency and result"
   ]
  },
  {
   "cell_type": "markdown",
   "metadata": {},
   "source": [
    "## importing the functions"
   ]
  },
  {
   "cell_type": "code",
   "execution_count": 1,
   "metadata": {},
   "outputs": [
    {
     "ename": "TabError",
     "evalue": "inconsistent use of tabs and spaces in indentation (NNSubsampling.py, line 131)",
     "output_type": "error",
     "traceback": [
      "Traceback \u001b[0;36m(most recent call last)\u001b[0m:\n",
      "  File \u001b[1;32m\"/usr/local/lib/python3.7/site-packages/IPython/core/interactiveshell.py\"\u001b[0m, line \u001b[1;32m3291\u001b[0m, in \u001b[1;35mrun_code\u001b[0m\n    exec(code_obj, self.user_global_ns, self.user_ns)\n",
      "  File \u001b[1;32m\"<ipython-input-1-8ec51f063ea0>\"\u001b[0m, line \u001b[1;32m1\u001b[0m, in \u001b[1;35m<module>\u001b[0m\n    from NNSubsampling import subsampling, subsampling_with_PCA, \\\n",
      "\u001b[0;36m  File \u001b[0;32m\"/usr/local/lib/python3.7/site-packages/NNSubsampling/__init__.py\"\u001b[0;36m, line \u001b[0;32m3\u001b[0;36m, in \u001b[0;35m<module>\u001b[0;36m\u001b[0m\n\u001b[0;31m    from .NNSubsampling import subsampling, subsampling_with_PCA, batch_subsampling, batch_subsampling_with_PCA, random_subsampling\u001b[0m\n",
      "\u001b[0;36m  File \u001b[0;32m\"/usr/local/lib/python3.7/site-packages/NNSubsampling/NNSubsampling.py\"\u001b[0;36m, line \u001b[0;32m131\u001b[0m\n\u001b[0;31m    print(\"use nmslib backend\")\u001b[0m\n\u001b[0m                               ^\u001b[0m\n\u001b[0;31mTabError\u001b[0m\u001b[0;31m:\u001b[0m inconsistent use of tabs and spaces in indentation\n"
     ]
    }
   ],
   "source": [
    "from NNSubsampling import subsampling, subsampling_with_PCA, \\\n",
    "                          batch_subsampling, batch_subsampling_with_PCA"
   ]
  },
  {
   "cell_type": "markdown",
   "metadata": {},
   "source": [
    "## Detailed Explanations of the Functions\n",
    "### Subsampling\n",
    "\n",
    "subsampling(data, list_desc = [], standard_scale = True, cutoff_sig = 0.05, rate = 0.3, method = \"pykdtree\", verbose = 1):\n",
    "    \n",
    "    Run the NN-based subsampling algorithm to a list of data points and \n",
    "    return the resulting list of subsampled data points\n",
    "    \n",
    "\n",
    "    Parameters\n",
    "    -------------\n",
    "    data: List. the original list of data points\n",
    "    \n",
    "    list_desc [[] (empty list)]:  List.\n",
    "                the indices of descriptors (features) of the datapoints. \n",
    "                The algorithm would subsample based only on these descriptors \n",
    "                (although other features will still be kept in the resulting subsampled dataset)\n",
    "                If the list is empty, then all feature will be taken into account\n",
    "    \n",
    "    standard_scale [True]: Boolean. Whether to apply standard scaler to the dataset prior to subsampling\n",
    "    \n",
    "    cutoff_sig [0.02]: Float. cutoff significance. the cutoff distance equals to the Euclidean \n",
    "                       norm of the standard deviations in all dimensions of the data points \n",
    "    \n",
    "    rate [0.3]: Float. possibility of deletion\n",
    "    \n",
    "    method [\"pykdtree\"]: String. which backend nearest neighbour model to use. \n",
    "                         possible choices: [\"pykdtree\", \"nmslib\", \"sklearn\", \"scipy\", \"annoy\", \"flann\"]\n",
    "    \n",
    "    verbose [1]: integer. level of verbosity\n",
    "    \n",
    "    \n",
    "    Return\n",
    "    -------------\n",
    "    sampling_result : the result list of subsampled data points\n",
    "\n",
    "    "
   ]
  },
  {
   "cell_type": "markdown",
   "metadata": {},
   "source": [
    "### subsampling_with_PCA\n",
    "subsampling_with_PCA(data, list_desc = [], standard_scale = True, cutoff_sig = 0.05, rate = 0.3, \n",
    "                                start_trial_component = 10, max_component = 30, target_variance = 0.999999, \n",
    "                                method = \"pykdtree\", verbose = 1):\n",
    "    \n",
    "    Run the NN-based subsampling algorithm to a list of data points and \n",
    "    return the resulting list of subsampled data points\n",
    "    \n",
    "    The data set will first be transformed by PCA, before running the subsampling algorithm\n",
    "    The number of PCs kept is the minimal number of PCs that have sum explained variance \n",
    "    greater than target_variance \n",
    "    \n",
    "    Note that the final resulting list of datapoints (sampling_result) is NOT transformed\n",
    "    (since we only used the PCA + subsampling alghorithm to find the indices of the datapoints to be kept)\n",
    "    \n",
    "\n",
    "    Parameters\n",
    "    -------------\n",
    "    data: List. the original list of data points\n",
    "   \n",
    "    list_desc [[] (empty list)]:  List.\n",
    "                the indices of descriptors (features) of the datapoints. \n",
    "                The algorithm would subsample based only on these descriptors \n",
    "                (although other features will still be kept in the resulting subsampled dataset)\n",
    "                If the list is empty, then all feature will be taken into account\n",
    "    \n",
    "    standard_scale [True]: Boolean. Whether to apply standard scaler to the dataset prior to subsampling\n",
    "    \n",
    "    cutoff_sig [0.02]: Float. cutoff significance. the cutoff distance equals to the Euclidean \n",
    "                       norm of the standard deviations in all dimensions of the data points \n",
    "    \n",
    "    rate [0.3]: Float. possibility of deletion\n",
    "    \n",
    "    start_trial_component [10]: Int. minimum number of PCs.\n",
    "                           if the number of features is below this number, then all features will be kept\n",
    "    \n",
    "    max_component [30]: Int.the maximum number of PCs to be kept, \n",
    "                        even the target variance has not been reached\n",
    "    \n",
    "    target_variance [0.999999]: Float. the target sum of variance. \n",
    "    \n",
    "    method [\"pykdtree\"]: String. which backend nearest neighbour model to use. \n",
    "                         possible choices: [\"pykdtree\", \"nmslib\", \"sklearn\", \"scipy\", \"annoy\", \"flann\"]\n",
    "    \n",
    "    verbose [1]: integer. level of verbosity\n",
    "    \n",
    "    \n",
    "    Return\n",
    "    -------------\n",
    "    sampling_result : the result list of subsampled data points"
   ]
  },
  {
   "cell_type": "markdown",
   "metadata": {},
   "source": [
    "### batch_subsampling\n",
    "batch_subsampling(data, list_desc = [], batch_size = 1000000, recursive_level = 1, \n",
    "                             standard_scale = True, cutoff_sig = 0.05, rate = 0.3, method = \"pykdtree\", \n",
    "                             verbose = 1, shuffle = True):\n",
    "\n",
    "    Subsample with batch\n",
    "    This is to save the memory if the data set of interest is too large.\n",
    "    \n",
    "    The data set will first be broken down into equally sized batchs (defined by batch size)\n",
    "    that will be subsampled individually.\n",
    "    The resulting subsampled datapoints will then be pooled together for a overall subsample\n",
    "    \n",
    "    In case this is not sufficient, multi-level batch subsampling is also allowed.\n",
    "    So instead of a overall subsample after pooling the resulting subsampled datapoints,\n",
    "    the pooled data points will again be broken down into batches for a second-level batch subsample.\n",
    "    This process is repeated multiple times (as defined by recursive_level) before eventually an \n",
    "    overall subsample is performed\n",
    "    \n",
    "    \n",
    "    Parameters\n",
    "    -------------\n",
    "    data: List. the original list of data points\n",
    "    \n",
    "    list_desc [[] (empty list)]:  List.\n",
    "                the indices of descriptors (features) of the datapoints. \n",
    "                The algorithm would subsample based only on these descriptors \n",
    "                (although other features will still be kept in the resulting subsampled dataset)\n",
    "                If the list is empty, then all feature will be taken into account\n",
    "                \n",
    "    batch_size [1000000]: Int. the number of datapoints in each batch\n",
    "    \n",
    "    recursive_level [1]: Int. the number of levels for batch subsampling (as described above)\n",
    "\n",
    "    standard_scale [True]: Boolean. Whether to apply standard scaler to the dataset prior to subsampling\n",
    "    \n",
    "    cutoff_sig [0.02]: Float. cutoff significance. the cutoff distance equals to the Euclidean \n",
    "                       norm of the standard deviations in all dimensions of the data points \n",
    "    \n",
    "    rate [0.3]: Float. possibility of deletion\n",
    "    \n",
    "    method [\"pykdtree\"]: String. which backend nearest neighbour model to use. \n",
    "                         possible choices: [\"pykdtree\", \"nmslib\", \"sklearn\", \"scipy\", \"annoy\", \"flann\"]\n",
    "    \n",
    "    verbose [1]: integer. level of verbosity\n",
    "    \n",
    "    shuffle [True]: Boolean. whether to shuffle the dataset before breaking down into batchs\n",
    "    \n",
    "    \n",
    "    Return\n",
    "    -------------\n",
    "    sampling_result : the result list of subsampled data points"
   ]
  },
  {
   "cell_type": "markdown",
   "metadata": {},
   "source": [
    "### batch_subsampling_with_PCA\n",
    "\n",
    "batch_subsampling_with_PCA(data, list_desc = [], batch_size = 1000000, recursive_level = 1, \n",
    "                             start_trial_component = 10, max_component = 30, target_variance = 0.999999, \n",
    "                             standard_scale = True, cutoff_sig = 0.05, rate = 0.3, method = \"pykdtree\", \n",
    "                             verbose = 1, shuffle = True):\n",
    "    \n",
    "    '''\n",
    "    Subsample with batch (with PCA pre-processing)\n",
    "    This is to save the memory if the data set of interest is too large.\n",
    "    \n",
    "    The data set will first be broken down into equally sized batchs (defined by batch size)\n",
    "    that will be subsampled individually.\n",
    "    The resulting subsampled datapoints will then be pooled together for a overall subsample\n",
    "    \n",
    "    In case this is not sufficient, multi-level batch subsampling is also allowed.\n",
    "    So instead of a overall subsample after pooling the resulting subsampled datapoints,\n",
    "    the pooled data points will again be broken down into batches for a second-level batch subsample.\n",
    "    This process is repeated multiple times (as defined by recursive_level) before eventually an \n",
    "    overall subsample is performed\n",
    "    \n",
    "    \n",
    "    Parameters\n",
    "    -------------\n",
    "    data: List. the original list of data points\n",
    "    \n",
    "    list_desc [[] (empty list)]:  List.\n",
    "                the indices of descriptors (features) of the datapoints. \n",
    "                The algorithm would subsample based only on these descriptors \n",
    "                (although other features will still be kept in the resulting subsampled dataset)\n",
    "                If the list is empty, then all feature will be taken into account\n",
    "                \n",
    "    batch_size [1000000]: Int. the number of datapoints in each batch\n",
    "    \n",
    "    recursive_level [1]: Int. the number of levels for batch subsampling (as described above)\n",
    "\n",
    "    standard_scale [True]: Boolean. Whether to apply standard scaler to the dataset prior to subsampling\n",
    "    \n",
    "    cutoff_sig [0.02]: Float. cutoff significance. the cutoff distance equals to the Euclidean \n",
    "                       norm of the standard deviations in all dimensions of the data points \n",
    "    \n",
    "    rate [0.3]: Float. possibility of deletion\n",
    "    \n",
    "    start_trial_component [10]: Int. minimum number of PCs.\n",
    "                           if the number of features is below this number, then all features will be kept\n",
    "    \n",
    "    max_component [30]: Int.the maximum number of PCs to be kept, \n",
    "                        even the target variance has not been reached\n",
    "    \n",
    "    target_variance [0.999999]: Float. the target sum of variance. \n",
    "    \n",
    "    method [\"pykdtree\"]: String. which backend nearest neighbour model to use. \n",
    "                         possible choices: [\"pykdtree\", \"nmslib\", \"sklearn\", \"scipy\", \"annoy\", \"flann\"]\n",
    "    \n",
    "    verbose [1]: integer. level of verbosity\n",
    "    \n",
    "    shuffle [True]: Boolean. whether to shuffle the dataset before breaking down into batchs\n",
    "    \n",
    "    \n",
    "    Return\n",
    "    -------------\n",
    "    sampling_result : the result list of subsampled data points"
   ]
  },
  {
   "cell_type": "markdown",
   "metadata": {},
   "source": [
    "# Tutorial and Tests\n",
    "\n",
    "### prepare plot function and dataset\n",
    "\n",
    "Multi-dimensional normal distributed dataset"
   ]
  },
  {
   "cell_type": "code",
   "execution_count": 2,
   "metadata": {},
   "outputs": [],
   "source": [
    "import time\n",
    "import numpy as np\n",
    "import random\n",
    "import seaborn as sns\n",
    "import pandas as pd\n",
    "import matplotlib\n",
    "import matplotlib.pyplot as plt\n",
    "def plot(data):\n",
    "    \n",
    "    x_subsampled = data[:,0]\n",
    "    y_subsampled = data[:,1]\n",
    "\n",
    "    dataframe = pd.DataFrame({'x':x_subsampled, 'y':y_subsampled, 'group':np.repeat('subsampled',len(x_subsampled))})\n",
    "    sns.set(font_scale = 2)\n",
    "    with sns.axes_style('white'):\n",
    "        g = sns.JointGrid(x=\"x\", y=\"y\",data=dataframe,space=0)\n",
    "        g = g.plot_joint(plt.scatter, color = \"b\", s=30)\n",
    "\n",
    "        g.set_axis_labels(fontsize=50)\n",
    "\n",
    "        count = lambda a, b: len(a)\n",
    "        g.annotate(count, template=\"{val:.0f}\",stat=\"Count\",loc=\"upper right\", fontsize = 20)\n",
    "\n",
    "        _ = g.ax_marg_x.hist(dataframe[\"x\"], color = \"b\", alpha = 0.6, bins = np.arange(-0.5, 0.5, 0.02))\n",
    "        _ = g.ax_marg_y.hist(dataframe[\"y\"], color = \"b\", alpha = 0.6, orientation = \"horizontal\",bins = np.arange(0, 200, 4))\n",
    "        plt.show()\n",
    "    return\n",
    "\n",
    "n = 1000000\n",
    "x1_mu, x1_sigma = 0, 0.1\n",
    "x2_mu, x2_sigma = 100, 20\n",
    "x3_mu, x3_sigma = 15, 40\n",
    "x4_mu, x4_sigma = -20, 5\n",
    "x5_mu, x5_sigma = 1000, 0.1\n",
    "x6_mu, x7_sigma = 0.0, 30\n",
    "x7_mu, x6_sigma = 12, 2\n",
    "x8_mu, x8_sigma = 50, 40\n",
    "x9_mu, x9_sigma = 5, 20\n",
    "x10_mu, x10_sigma = 10, 2\n",
    "\n",
    "\n",
    "x1 = np.random.normal(x1_mu, x1_sigma, n)\n",
    "x2 = np.random.normal(x2_mu, x2_sigma, n)\n",
    "x3 = np.random.normal(x3_mu, x3_sigma, n)\n",
    "x4 = np.random.normal(x4_mu, x4_sigma, n)\n",
    "x5 = np.random.normal(x5_mu, x5_sigma, n)\n",
    "x6 = np.random.normal(x6_mu, x6_sigma, n)\n",
    "x7 = np.random.normal(x7_mu, x7_sigma, n)\n",
    "x8 = np.random.normal(x8_mu, x8_sigma, n)\n",
    "x9 = np.random.normal(x9_mu, x9_sigma, n)\n",
    "x10 = np.random.normal(x10_mu, x10_sigma, n)"
   ]
  },
  {
   "cell_type": "markdown",
   "metadata": {},
   "source": [
    "## Tutorials\n",
    "\n",
    "1,000,000 Multi-dimensional normally distributed data points.\n",
    "\n",
    "we will only use the \"pykdtree\" backend in the tutorial"
   ]
  },
  {
   "cell_type": "markdown",
   "metadata": {},
   "source": [
    "### Tutorial 1: 2D toy case, with different rate and cutoff_sig\n",
    "\n",
    "1. higher rate --> fewer iterations, faster execution, but less nicely distributed results\n",
    "2. higher cutoff_sig --> more sparse resulting subsampled datapoints\n"
   ]
  },
  {
   "cell_type": "code",
   "execution_count": 3,
   "metadata": {},
   "outputs": [
    {
     "name": "stderr",
     "output_type": "stream",
     "text": [
      "/usr/local/lib/python3.7/site-packages/seaborn/axisgrid.py:1847: UserWarning: JointGrid annotation is deprecated and will be removed in a future release.\n",
      "  warnings.warn(UserWarning(msg))\n"
     ]
    },
    {
     "data": {
      "image/png": "[encoded data removed]",
      "text/plain": [
       "<Figure size 432x432 with 3 Axes>"
      ]
     },
     "metadata": {},
     "output_type": "display_data"
    }
   ],
   "source": [
    "data_2D = np.column_stack((x1,x2))\n",
    "plot(data_2D)"
   ]
  },
  {
   "cell_type": "markdown",
   "metadata": {},
   "source": [
    "#### subsample with cutoff_sig = 0.05, rate = 0.2"
   ]
  },
  {
   "cell_type": "code",
   "execution_count": 4,
   "metadata": {
    "scrolled": false
   },
   "outputs": [
    {
     "ename": "NameError",
     "evalue": "name 'subsampling' is not defined",
     "output_type": "error",
     "traceback": [
      "\u001b[0;31m---------------------------------------------------------------------------\u001b[0m",
      "\u001b[0;31mNameError\u001b[0m                                 Traceback (most recent call last)",
      "\u001b[0;32m<ipython-input-4-51a2e3224bb9>\u001b[0m in \u001b[0;36m<module>\u001b[0;34m\u001b[0m\n\u001b[0;32m----> 1\u001b[0;31m \u001b[0msubsampled\u001b[0m \u001b[0;34m=\u001b[0m \u001b[0mnp\u001b[0m\u001b[0;34m.\u001b[0m\u001b[0masarray\u001b[0m\u001b[0;34m(\u001b[0m\u001b[0msubsampling\u001b[0m\u001b[0;34m(\u001b[0m\u001b[0mdata_2D\u001b[0m\u001b[0;34m,\u001b[0m\u001b[0mlist_desc\u001b[0m \u001b[0;34m=\u001b[0m \u001b[0;34m[\u001b[0m\u001b[0;34m]\u001b[0m\u001b[0;34m,\u001b[0m\u001b[0mcutoff_sig\u001b[0m\u001b[0;34m=\u001b[0m\u001b[0;36m0.1\u001b[0m\u001b[0;34m,\u001b[0m\u001b[0mrate\u001b[0m\u001b[0;34m=\u001b[0m\u001b[0;36m0.2\u001b[0m\u001b[0;34m,\u001b[0m \u001b[0mmethod\u001b[0m \u001b[0;34m=\u001b[0m \u001b[0;34m\"pykdtree\"\u001b[0m\u001b[0;34m,\u001b[0m\u001b[0mverbose\u001b[0m \u001b[0;34m=\u001b[0m \u001b[0;36m2\u001b[0m\u001b[0;34m)\u001b[0m\u001b[0;34m)\u001b[0m\u001b[0;34m\u001b[0m\u001b[0;34m\u001b[0m\u001b[0m\n\u001b[0m\u001b[1;32m      2\u001b[0m \u001b[0;34m\u001b[0m\u001b[0m\n\u001b[1;32m      3\u001b[0m \u001b[0mplot\u001b[0m\u001b[0;34m(\u001b[0m\u001b[0msubsampled\u001b[0m\u001b[0;34m)\u001b[0m\u001b[0;34m\u001b[0m\u001b[0;34m\u001b[0m\u001b[0m\n",
      "\u001b[0;31mNameError\u001b[0m: name 'subsampling' is not defined"
     ]
    }
   ],
   "source": [
    "subsampled = np.asarray(subsampling(data_2D,list_desc = [],cutoff_sig=0.1,rate=0.2, method = \"pykdtree\",verbose = 2))\n",
    "\n",
    "plot(subsampled)"
   ]
  },
  {
   "cell_type": "markdown",
   "metadata": {},
   "source": [
    "#### subsample with cutoff_sig = 0.1, rate = 0.6"
   ]
  },
  {
   "cell_type": "code",
   "execution_count": null,
   "metadata": {
    "scrolled": false
   },
   "outputs": [],
   "source": [
    "subsampled = np.asarray(subsampling(data_2D,list_desc = [],cutoff_sig=0.1,rate=0.6, method = \"pykdtree\",verbose = 2))\n",
    "\n",
    "plot(subsampled)"
   ]
  },
  {
   "cell_type": "markdown",
   "metadata": {},
   "source": [
    "#### subsample with cutoff_sig = 0.4, rate = 0.2"
   ]
  },
  {
   "cell_type": "code",
   "execution_count": null,
   "metadata": {
    "scrolled": true
   },
   "outputs": [],
   "source": [
    "subsampled = np.asarray(subsampling(data_2D,list_desc = [],cutoff_sig=0.4,rate=0.2, method = \"pykdtree\",verbose = 2))\n",
    "\n",
    "plot(subsampled)"
   ]
  },
  {
   "cell_type": "markdown",
   "metadata": {},
   "source": [
    "### Tutorial 2: Subsample based on subset of features\n",
    "\n",
    "In this case subsample based on feature 1 of the 2D dataset"
   ]
  },
  {
   "cell_type": "code",
   "execution_count": null,
   "metadata": {},
   "outputs": [],
   "source": [
    "subsampled = np.asarray(subsampling(data_2D,list_desc = [0],cutoff_sig=0.1,rate=0.2, method = \"pykdtree\",verbose = 1))\n",
    "\n",
    "plot(subsampled)"
   ]
  },
  {
   "cell_type": "markdown",
   "metadata": {},
   "source": [
    "### Tutorial 3: Subsample with PCA-preprocessing for high-dimensional dataset\n",
    "\n",
    "we will demostrate with a 10-D dataset\n",
    "\n",
    "PCA is first done on the dataset, and first N PCs that captured 99% variance of the \n",
    "original dataset are used to subsample the dataset\n",
    "\n",
    "Note although the dataset is subsampled with PCs, the resulting subsampled dataset is\n",
    "not PCA transformed"
   ]
  },
  {
   "cell_type": "code",
   "execution_count": null,
   "metadata": {},
   "outputs": [],
   "source": [
    "temp = np.column_stack((x1,x2,x3,x4,x5,x6,x7,x8,x9,x10))\n",
    "\n",
    "print(\"original dataset shape: {}\".format(temp.shpae))\n",
    "\n",
    "subsampled = subsampling_with_PCA(temp,list_desc = [], start_trial_component = 5, max_component = 10, \\\n",
    "                                  target_variance = 0.99, cutoff_sig=1.0,rate=0.2, \\\n",
    "                                  method = \"pykdtree\",verbose = 1)\n",
    "\n",
    "print(\"result dataset shape: {}\".format(np.array(subsampled).shpae))"
   ]
  },
  {
   "cell_type": "markdown",
   "metadata": {},
   "source": [
    "### Tutorial 4: Batch subsample with for large dataset\n",
    "\n",
    "Batch subsampling with 100,000 and 10,000 batch sizes were tested. 2 observations could be made:\n",
    "\n",
    "1. subsampling based on small batchs sucessfully lowered the cost of the subsampling algorithm\n",
    "2. seems the resulting sabsampled datasets are much more sparse"
   ]
  },
  {
   "cell_type": "markdown",
   "metadata": {},
   "source": [
    "#### 100,000 datapoints in a batch, with 2 levels of batch subsample\n",
    "subsample with cutoff_sig = 0.1, rate = 0.2"
   ]
  },
  {
   "cell_type": "code",
   "execution_count": null,
   "metadata": {
    "scrolled": true
   },
   "outputs": [],
   "source": [
    "start = time.time()\n",
    "subsampled = np.array(batch_subsampling(data_2D,list_desc = [], batch_size = 100000, recursive_level = 1, \\\n",
    "                                                      cutoff_sig=0.1,rate=0.2, method = \"pykdtree\",verbose = 1))\n",
    "\n",
    "print(\"total time: {}\".format(time.time()-start))\n",
    "\n",
    "plot(subsampled)"
   ]
  },
  {
   "cell_type": "markdown",
   "metadata": {},
   "source": [
    "#### 10,000 datapoints in a batch, with 2 levels of batch subsample\n",
    "subsample with cutoff_sig = 0.1, rate = 0.2"
   ]
  },
  {
   "cell_type": "code",
   "execution_count": null,
   "metadata": {
    "scrolled": true
   },
   "outputs": [],
   "source": [
    "start = time.time()\n",
    "temp_subsampled = np.array(batch_subsampling(data_2D,list_desc = [], batch_size = 10000, recursive_level = 2, \\\n",
    "                                                      cutoff_sig=0.1,rate=0.2, method = \"pykdtree\",verbose = 1))\n",
    "\n",
    "print(\"total time: {}\".format(time.time()-start))\n",
    "\n",
    "plot(subsampled)"
   ]
  },
  {
   "cell_type": "markdown",
   "metadata": {},
   "source": [
    "## Tests"
   ]
  },
  {
   "cell_type": "markdown",
   "metadata": {},
   "source": [
    "### Test 1: scaling in multiple dimensions with different backend\n",
    "\n",
    "2 different backends were tested\n",
    "\n",
    "1. pykdtree backend seems to be very efficient for lower dimension dataset, but scales badly with number of dimensions\n",
    "\n",
    "2. nmslib backed performed much worse for lower dimension datasets, but scales better with dimension\n",
    "\n",
    "#### pykdtree backend"
   ]
  },
  {
   "cell_type": "code",
   "execution_count": null,
   "metadata": {},
   "outputs": [],
   "source": [
    "temp = np.column_stack((x1,x2))\n",
    "start = time.time()\n",
    "subsampling(temp,list_desc = [], cutoff_sig=1.0,rate=0.2, method = \"pykdtree\",verbose = False)\n",
    "\n",
    "print(\"2 dimensions, total time: {}\\n\\n\".format(time.time()-start))\n",
    "\n",
    "temp = np.column_stack((x1,x2,x3,x4,x5))\n",
    "start = time.time()\n",
    "subsampling(temp,list_desc = [], cutoff_sig=1.0,rate=0.2, method = \"pykdtree\",verbose = False)\n",
    "\n",
    "print(\"5 dimensions,total time: {}\\n\\n\".format(time.time()-start))\n",
    "\n",
    "temp = np.column_stack((x1,x2,x3,x4,x5,x6,x7,x8,x9,x10))\n",
    "start = time.time()\n",
    "subsampling(temp,list_desc = [], cutoff_sig=1.0,rate=0.2, method = \"pykdtree\",verbose = False)\n",
    "\n",
    "print(\"10 dimensions total time: {}\\n\\n\".format(time.time()-start))"
   ]
  },
  {
   "cell_type": "markdown",
   "metadata": {},
   "source": [
    "#### nmslib backend"
   ]
  },
  {
   "cell_type": "code",
   "execution_count": null,
   "metadata": {
    "scrolled": false
   },
   "outputs": [],
   "source": [
    "temp = np.column_stack((x1,x2))\n",
    "start = time.time()\n",
    "subsampling(temp,list_desc = [], cutoff_sig=1.0,rate=0.2, method = \"nmslib\",verbose = False)\n",
    "\n",
    "print(\"2 dimensions, total time: {}\\n\\n\".format(time.time()-start))\n",
    "\n",
    "temp = np.column_stack((x1,x2,x3,x4,x5))\n",
    "start = time.time()\n",
    "subsampling(temp,list_desc = [], cutoff_sig=1.0,rate=0.2, method = \"nmslib\",verbose = False)\n",
    "\n",
    "print(\"5 dimensions,total time: {}\\n\\n\".format(time.time()-start))\n",
    "\n",
    "temp = np.column_stack((x1,x2,x3,x4,x5,x6,x7,x8,x9,x10))\n",
    "start = time.time()\n",
    "subsampling(temp,list_desc = [], cutoff_sig=1.0,rate=0.2, method = \"nmslib\",verbose = False)\n",
    "\n",
    "print(\"10 dimensions total time: {}\\n\\n\".format(time.time()-start))"
   ]
  },
  {
   "cell_type": "markdown",
   "metadata": {},
   "source": [
    "### Test 2: MNIST dataset test\n",
    "\n",
    "subsampling with PCA pre-processing and different backends"
   ]
  },
  {
   "cell_type": "code",
   "execution_count": null,
   "metadata": {},
   "outputs": [],
   "source": [
    "from mlxtend.data import loadlocal_mnist\n",
    "from matplotlib import pyplot as plt\n",
    "\n",
    "X, y = loadlocal_mnist(\n",
    "        images_path='./train-images-idx3-ubyte', \n",
    "        labels_path='./train-labels-idx1-ubyte')\n"
   ]
  },
  {
   "cell_type": "code",
   "execution_count": null,
   "metadata": {
    "scrolled": true
   },
   "outputs": [],
   "source": [
    "result = subsampling_with_PCA(X,list_desc = [],standard_scale = False, max_component = 120, target_variance = 0.98,\\\n",
    "                                     cutoff_sig=1.5,rate=0.1, method = \"nmslib\", verbose = 1)\n",
    "for image in result:\n",
    "    plt.figure(figsize=(2,2))\n",
    "    plt.imshow(image.reshape(28,28))\n",
    "    plt.show()"
   ]
  },
  {
   "cell_type": "code",
   "execution_count": null,
   "metadata": {
    "scrolled": true
   },
   "outputs": [],
   "source": [
    "result = subsampling_with_PCA(X,list_desc = [],standard_scale = False, max_component = 120, target_variance = 0.98,\\\n",
    "                                     cutoff_sig=1.5,rate=0.1, method = \"pykdtree\", verbose = 1)\n",
    "for image in result:\n",
    "    plt.figure(figsize=(2,2))\n",
    "    plt.imshow(image.reshape(28,28))\n",
    "    plt.show()"
   ]
  },
  {
   "cell_type": "code",
   "execution_count": null,
   "metadata": {
    "scrolled": true
   },
   "outputs": [],
   "source": [
    "result = subsampling_with_PCA(X,list_desc = [],standard_scale = False, max_component = 120, target_variance = 0.98,\\\n",
    "                                     cutoff_sig=1.5,rate=0.1, method = \"annoy\", verbose = 1)\n",
    "for image in result:\n",
    "    plt.figure(figsize=(2,2))\n",
    "    plt.imshow(image.reshape(28,28))\n",
    "    plt.show()"
   ]
  },
  {
   "cell_type": "markdown",
   "metadata": {},
   "source": [
    "### Test 3: fashion-MNIST dataset test\n",
    "\n",
    "subsampling with PCA pre-processing and different backend"
   ]
  },
  {
   "cell_type": "code",
   "execution_count": null,
   "metadata": {},
   "outputs": [],
   "source": [
    "X, y = loadlocal_mnist(\n",
    "        images_path='./train-fasion-images-idx3-ubyte', \n",
    "        labels_path='./train-fasion-labels-idx1-ubyte')"
   ]
  },
  {
   "cell_type": "code",
   "execution_count": null,
   "metadata": {
    "scrolled": true
   },
   "outputs": [],
   "source": [
    "result = subsampling_with_PCA(X,list_desc = [],standard_scale = False, max_component = 120, target_variance = 0.98,\\\n",
    "                                     cutoff_sig=1.5,rate=0.1, method = \"nmslib\", verbose = 1)\n",
    "for image in result:\n",
    "    plt.figure(figsize=(2,2))\n",
    "    plt.imshow(image.reshape(28,28))\n",
    "    plt.show()"
   ]
  },
  {
   "cell_type": "code",
   "execution_count": null,
   "metadata": {
    "scrolled": true
   },
   "outputs": [],
   "source": [
    "result = subsampling_with_PCA(X,list_desc = [],standard_scale = False, max_component = 120, target_variance = 0.98,\\\n",
    "                                     cutoff_sig=1.5,rate=0.1, method = \"pykdtree\", verbose = 1)\n",
    "for image in result:\n",
    "    plt.figure(figsize=(2,2))\n",
    "    plt.imshow(image.reshape(28,28))\n",
    "    plt.show()"
   ]
  },
  {
   "cell_type": "code",
   "execution_count": null,
   "metadata": {
    "scrolled": true
   },
   "outputs": [],
   "source": [
    "result = subsampling_with_PCA(X,list_desc = [],standard_scale = False, max_component = 120, target_variance = 0.98,\\\n",
    "                                     cutoff_sig=1.5,rate=0.1, method = \"annoy\", verbose = 1)\n",
    "for image in result:\n",
    "    plt.figure(figsize=(2,2))\n",
    "    plt.imshow(image.reshape(28,28))\n",
    "    plt.show()"
   ]
  },
  {
   "cell_type": "code",
   "execution_count": null,
   "metadata": {},
   "outputs": [],
   "source": []
  }
 ],
 "metadata": {
  "kernelspec": {
   "display_name": "Python 3",
   "language": "python",
   "name": "python3"
  },
  "language_info": {
   "codemirror_mode": {
    "name": "ipython",
    "version": 3
   },
   "file_extension": ".py",
   "mimetype": "text/x-python",
   "name": "python",
   "nbconvert_exporter": "python",
   "pygments_lexer": "ipython3",
   "version": "3.7.2"
  }
 },
 "nbformat": 4,
 "nbformat_minor": 2
}
